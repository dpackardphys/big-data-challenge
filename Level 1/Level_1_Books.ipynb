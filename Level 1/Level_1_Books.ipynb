{
  "nbformat": 4,
  "nbformat_minor": 0,
  "metadata": {
    "colab": {
      "provenance": []
    },
    "kernelspec": {
      "name": "python3",
      "display_name": "Python 3"
    },
    "language_info": {
      "name": "python"
    },
    "accelerator": "GPU",
    "gpuClass": "standard"
  },
  "cells": [
    {
      "cell_type": "code",
      "execution_count": 1,
      "metadata": {
        "colab": {
          "base_uri": "https://localhost:8080/"
        },
        "id": "vKozyHJPW0qU",
        "outputId": "498130d2-3cec-4879-b932-a39d904edd23"
      },
      "outputs": [
        {
          "output_type": "stream",
          "name": "stdout",
          "text": [
            "\r0% [Working]\r            \rGet:1 https://cloud.r-project.org/bin/linux/ubuntu bionic-cran40/ InRelease [3,626 B]\n",
            "\r0% [Connecting to archive.ubuntu.com] [Connecting to security.ubuntu.com (185.1\r0% [Connecting to archive.ubuntu.com] [Connecting to security.ubuntu.com (185.1\r0% [1 InRelease gpgv 3,626 B] [Connecting to archive.ubuntu.com] [Connecting to\r                                                                               \rIgn:2 https://developer.download.nvidia.com/compute/machine-learning/repos/ubuntu1804/x86_64  InRelease\n",
            "\r0% [1 InRelease gpgv 3,626 B] [Connecting to archive.ubuntu.com] [Connecting to\r                                                                               \rGet:3 https://developer.download.nvidia.com/compute/cuda/repos/ubuntu1804/x86_64  InRelease [1,581 B]\n",
            "Hit:4 https://developer.download.nvidia.com/compute/machine-learning/repos/ubuntu1804/x86_64  Release\n",
            "Hit:5 http://archive.ubuntu.com/ubuntu bionic InRelease\n",
            "Get:6 http://security.ubuntu.com/ubuntu bionic-security InRelease [88.7 kB]\n",
            "Get:7 http://archive.ubuntu.com/ubuntu bionic-updates InRelease [88.7 kB]\n",
            "Get:8 https://developer.download.nvidia.com/compute/cuda/repos/ubuntu1804/x86_64  Packages [1,038 kB]\n",
            "Hit:9 http://ppa.launchpad.net/c2d4u.team/c2d4u4.0+/ubuntu bionic InRelease\n",
            "Get:10 http://archive.ubuntu.com/ubuntu bionic-backports InRelease [83.3 kB]\n",
            "Hit:12 http://ppa.launchpad.net/cran/libgit2/ubuntu bionic InRelease\n",
            "Hit:13 http://ppa.launchpad.net/deadsnakes/ppa/ubuntu bionic InRelease\n",
            "Hit:14 http://ppa.launchpad.net/graphics-drivers/ppa/ubuntu bionic InRelease\n",
            "Get:15 http://archive.ubuntu.com/ubuntu bionic-updates/main amd64 Packages [3,493 kB]\n",
            "Get:16 http://archive.ubuntu.com/ubuntu bionic-updates/universe amd64 Packages [2,338 kB]\n",
            "Get:17 http://security.ubuntu.com/ubuntu bionic-security/universe amd64 Packages [1,561 kB]\n",
            "Get:18 http://security.ubuntu.com/ubuntu bionic-security/main amd64 Packages [3,067 kB]\n",
            "Fetched 11.8 MB in 4s (2,658 kB/s)\n",
            "Reading package lists... Done\n"
          ]
        }
      ],
      "source": [
        "import os\n",
        "# Find the latest version of spark 3.2  from http://www.apache.org/dist/spark/ and enter as the spark version\n",
        "# For example:\n",
        "spark_version = 'spark-3.2.2'\n",
        "# spark_version = 'spark-<enter version>'\n",
        "os.environ['SPARK_VERSION']=spark_version\n",
        "\n",
        "# Install Spark and Java\n",
        "!apt-get update\n",
        "!apt-get install openjdk-8-jdk-headless -qq > /dev/null\n",
        "!wget -q http://www.apache.org/dist/spark/$SPARK_VERSION/$SPARK_VERSION-bin-hadoop2.7.tgz\n",
        "!tar xf $SPARK_VERSION-bin-hadoop2.7.tgz\n",
        "!pip install -q findspark\n",
        "\n",
        "# Set Environment Variables\n",
        "os.environ[\"JAVA_HOME\"] = \"/usr/lib/jvm/java-8-openjdk-amd64\"\n",
        "os.environ[\"SPARK_HOME\"] = f\"/content/{spark_version}-bin-hadoop2.7\"\n",
        "\n",
        "# Start a SparkSession\n",
        "import findspark\n",
        "findspark.init()"
      ]
    },
    {
      "cell_type": "code",
      "source": [
        "!wget https://jdbc.postgresql.org/download/postgresql-42.2.9.jar"
      ],
      "metadata": {
        "id": "7Ib08If8QnAm",
        "colab": {
          "base_uri": "https://localhost:8080/"
        },
        "outputId": "c19afcfd-7e2f-43f6-b819-c52c2e15997f"
      },
      "execution_count": 2,
      "outputs": [
        {
          "output_type": "stream",
          "name": "stdout",
          "text": [
            "--2022-11-22 19:23:05--  https://jdbc.postgresql.org/download/postgresql-42.2.9.jar\n",
            "Resolving jdbc.postgresql.org (jdbc.postgresql.org)... 72.32.157.228, 2001:4800:3e1:1::228\n",
            "Connecting to jdbc.postgresql.org (jdbc.postgresql.org)|72.32.157.228|:443... connected.\n",
            "HTTP request sent, awaiting response... 200 OK\n",
            "Length: 914037 (893K) [application/java-archive]\n",
            "Saving to: ‘postgresql-42.2.9.jar’\n",
            "\n",
            "postgresql-42.2.9.j 100%[===================>] 892.61K  4.57MB/s    in 0.2s    \n",
            "\n",
            "2022-11-22 19:23:05 (4.57 MB/s) - ‘postgresql-42.2.9.jar’ saved [914037/914037]\n",
            "\n"
          ]
        }
      ]
    },
    {
      "cell_type": "code",
      "source": [
        "from pyspark.sql import SparkSession\n",
        "spark = SparkSession.builder.appName(\"Books\").config(\"spark.driver.extraClassPath\",\"/content/postgresql-42.2.9.jar\").getOrCreate()"
      ],
      "metadata": {
        "id": "hS8Ibr6fXxHL"
      },
      "execution_count": 3,
      "outputs": []
    },
    {
      "cell_type": "code",
      "source": [
        "from pyspark import SparkFiles\n",
        "url = 'https://s3.amazonaws.com/amazon-reviews-pds/tsv/amazon_reviews_us_Books_v1_00.tsv.gz'\n",
        "spark.sparkContext.addFile(url)\n",
        "df = spark.read.csv(SparkFiles.get('amazon_reviews_us_Books_v1_00.tsv.gz'), sep='\\t', header=True)"
      ],
      "metadata": {
        "id": "3i26fvrYe8Vg"
      },
      "execution_count": 4,
      "outputs": []
    },
    {
      "cell_type": "code",
      "source": [
        "df.show(10)"
      ],
      "metadata": {
        "id": "Jv9iZXc5ha3K",
        "colab": {
          "base_uri": "https://localhost:8080/"
        },
        "outputId": "36136fee-61fd-4d23-f24c-082216c43d63"
      },
      "execution_count": 5,
      "outputs": [
        {
          "output_type": "stream",
          "name": "stdout",
          "text": [
            "+-----------+-----------+--------------+----------+--------------+--------------------+----------------+-----------+-------------+-----------+----+-----------------+--------------------+--------------------+-----------+\n",
            "|marketplace|customer_id|     review_id|product_id|product_parent|       product_title|product_category|star_rating|helpful_votes|total_votes|vine|verified_purchase|     review_headline|         review_body|review_date|\n",
            "+-----------+-----------+--------------+----------+--------------+--------------------+----------------+-----------+-------------+-----------+----+-----------------+--------------------+--------------------+-----------+\n",
            "|         US|   25933450| RJOVP071AVAJO|0439873800|      84656342|There Was an Old ...|           Books|          5|            0|          0|   N|                Y|          Five Stars|I love it and so ...| 2015-08-31|\n",
            "|         US|    1801372|R1ORGBETCDW3AI|1623953553|     729938122|      I Saw a Friend|           Books|          5|            0|          0|   N|                Y|Please buy \"I Saw...|My wife and I ord...| 2015-08-31|\n",
            "|         US|    5782091| R7TNRFQAOUTX5|142151981X|     678139048|Black Lagoon, Vol. 6|           Books|          5|            0|          0|   N|                Y|       Shipped fast.|Great book just l...| 2015-08-31|\n",
            "|         US|   32715830|R2GANXKDIFZ6OI|014241543X|     712432151|           If I Stay|           Books|          5|            0|          0|   N|                N|          Five Stars|        So beautiful| 2015-08-31|\n",
            "|         US|   14005703|R2NYB6C3R8LVN6|1604600527|     800572372|Stars 'N Strips F...|           Books|          5|            2|          2|   N|                Y|          Five Stars|Enjoyed the autho...| 2015-08-31|\n",
            "|         US|   36205738|R13U5PBJI1H94K|0399170863|     559876774|            The Liar|           Books|          2|            1|          1|   N|                N|PREDICTABLE ALMOS...|Two or three page...| 2015-08-31|\n",
            "|         US|   44121167|R1H8UVH990F8VE|1517007240|     299984591|Devil in the Deta...|           Books|          5|            2|          2|   N|                N|The Monastery Mur...|&#34;Secrets in t...| 2015-08-31|\n",
            "|         US|   16519255|R2MC0N30WZMRQ5|0671728725|     821650353|Knowing When to S...|           Books|          5|            0|          0|   N|                Y|          Five Stars|          I love it!| 2015-08-31|\n",
            "|         US|   49361350| R2NO2HXK16Y4J|1111349533|     419457767|The American Pageant|           Books|          5|            0|          0|   N|                Y|          Five Stars|It was a great pu...| 2015-08-31|\n",
            "|         US|   11423253|R245YIAVJK82ZL|812211637X|     285887177|Punjabi C.L. Bibl...|           Books|          5|            0|          0|   N|                Y|          Five Stars|Quality product f...| 2015-08-31|\n",
            "+-----------+-----------+--------------+----------+--------------+--------------------+----------------+-----------+-------------+-----------+----+-----------------+--------------------+--------------------+-----------+\n",
            "only showing top 10 rows\n",
            "\n"
          ]
        }
      ]
    },
    {
      "cell_type": "code",
      "source": [
        "size = df.count()\n",
        "print(f\"Number of rows in DataFrame : {size}\")"
      ],
      "metadata": {
        "id": "NXEXshgwgElX",
        "colab": {
          "base_uri": "https://localhost:8080/"
        },
        "outputId": "3212ec13-5c14-4b7d-a4b7-8b98aeeb8dfe"
      },
      "execution_count": 6,
      "outputs": [
        {
          "output_type": "stream",
          "name": "stdout",
          "text": [
            "Number of rows in DataFrame : 10319090\n"
          ]
        }
      ]
    },
    {
      "cell_type": "code",
      "source": [
        "df = df.dropDuplicates().dropna()"
      ],
      "metadata": {
        "id": "S46kCMQNmuT3"
      },
      "execution_count": 7,
      "outputs": []
    },
    {
      "cell_type": "code",
      "source": [
        "size = df.count()\n",
        "print(f\"Number of rows in DataFrame : {size}\")"
      ],
      "metadata": {
        "id": "AoVZIK5umwbB",
        "colab": {
          "base_uri": "https://localhost:8080/"
        },
        "outputId": "e5f18b71-a08a-4939-817f-d6e2b584afd8"
      },
      "execution_count": 8,
      "outputs": [
        {
          "output_type": "stream",
          "name": "stdout",
          "text": [
            "Number of rows in DataFrame : 10316622\n"
          ]
        }
      ]
    },
    {
      "cell_type": "code",
      "source": [
        "# Examine schema\n",
        "df.printSchema()"
      ],
      "metadata": {
        "id": "iNWw7fqYn7Pg",
        "colab": {
          "base_uri": "https://localhost:8080/"
        },
        "outputId": "9d849f23-ee03-4622-d66e-23b0324c6b0f"
      },
      "execution_count": 9,
      "outputs": [
        {
          "output_type": "stream",
          "name": "stdout",
          "text": [
            "root\n",
            " |-- marketplace: string (nullable = true)\n",
            " |-- customer_id: string (nullable = true)\n",
            " |-- review_id: string (nullable = true)\n",
            " |-- product_id: string (nullable = true)\n",
            " |-- product_parent: string (nullable = true)\n",
            " |-- product_title: string (nullable = true)\n",
            " |-- product_category: string (nullable = true)\n",
            " |-- star_rating: string (nullable = true)\n",
            " |-- helpful_votes: string (nullable = true)\n",
            " |-- total_votes: string (nullable = true)\n",
            " |-- vine: string (nullable = true)\n",
            " |-- verified_purchase: string (nullable = true)\n",
            " |-- review_headline: string (nullable = true)\n",
            " |-- review_body: string (nullable = true)\n",
            " |-- review_date: string (nullable = true)\n",
            "\n"
          ]
        }
      ]
    },
    {
      "cell_type": "code",
      "source": [
        "# Drop unnused columns\n",
        "df = df.drop('marketplace','product_category','verified_purchase','review_headline','review_body')"
      ],
      "metadata": {
        "id": "WUowUlNdrnNU"
      },
      "execution_count": 10,
      "outputs": []
    },
    {
      "cell_type": "code",
      "source": [
        "# Convert numerical strings to integers to match schema\n",
        "from pyspark.sql.types import IntegerType\n",
        "df = df.withColumn(\"customer_id\", df[\"customer_id\"].cast(IntegerType()))\n",
        "df = df.withColumn(\"product_parent\", df[\"product_parent\"].cast(IntegerType()))\n",
        "df = df.withColumn(\"star_rating\", df[\"star_rating\"].cast(IntegerType()))\n",
        "df = df.withColumn(\"helpful_votes\", df[\"helpful_votes\"].cast(IntegerType()))\n",
        "df = df.withColumn(\"total_votes\", df[\"total_votes\"].cast(IntegerType()))"
      ],
      "metadata": {
        "id": "fKA_MZ1Ky51V"
      },
      "execution_count": 11,
      "outputs": []
    },
    {
      "cell_type": "code",
      "source": [
        "# Convert date strings to date types to match schema\n",
        "from pyspark.sql.functions import col, to_date\n",
        "df = df.withColumn(\"review_date\",to_date(col(\"review_date\"),\"yyyy-mm-dd\"))"
      ],
      "metadata": {
        "id": "eOOqdQioz_T2"
      },
      "execution_count": 12,
      "outputs": []
    },
    {
      "cell_type": "code",
      "source": [
        "df.printSchema()"
      ],
      "metadata": {
        "id": "BzZmF9NB0ANd",
        "colab": {
          "base_uri": "https://localhost:8080/"
        },
        "outputId": "6dd1eb13-13ee-4370-97c6-4072fc326521"
      },
      "execution_count": 13,
      "outputs": [
        {
          "output_type": "stream",
          "name": "stdout",
          "text": [
            "root\n",
            " |-- customer_id: integer (nullable = true)\n",
            " |-- review_id: string (nullable = true)\n",
            " |-- product_id: string (nullable = true)\n",
            " |-- product_parent: integer (nullable = true)\n",
            " |-- product_title: string (nullable = true)\n",
            " |-- star_rating: integer (nullable = true)\n",
            " |-- helpful_votes: integer (nullable = true)\n",
            " |-- total_votes: integer (nullable = true)\n",
            " |-- vine: string (nullable = true)\n",
            " |-- review_date: date (nullable = true)\n",
            "\n"
          ]
        }
      ]
    },
    {
      "cell_type": "code",
      "source": [
        "review_id_df = df.select([\"review_id\", \"customer_id\",\"product_id\",\"product_parent\",\"review_date\"])\n",
        "review_id_df.show()"
      ],
      "metadata": {
        "id": "RTXDaQRnCy8z",
        "colab": {
          "base_uri": "https://localhost:8080/"
        },
        "outputId": "af08a89c-4d87-4034-c5ee-74e4edc4355f"
      },
      "execution_count": 14,
      "outputs": [
        {
          "output_type": "stream",
          "name": "stdout",
          "text": [
            "+--------------+-----------+----------+--------------+-----------+\n",
            "|     review_id|customer_id|product_id|product_parent|review_date|\n",
            "+--------------+-----------+----------+--------------+-----------+\n",
            "|R10014V9AVMQ73|   28941543|0137150830|     854491944| 2014-01-18|\n",
            "|R1004FYSAYGYNZ|      28650|8183860664|     188251931| 2015-01-19|\n",
            "|R10086W0U9OHY1|   35531538|1421695103|     828616333| 2012-01-28|\n",
            "|R100LDX2L70YXF|   37127528|0439919045|     372719167| 2014-01-25|\n",
            "|R100OI6P955T8N|   18451121|0764585924|     843831426| 2014-01-12|\n",
            "|R100QVQSCIC23H|   27809831|1450252001|     483095575| 2014-01-11|\n",
            "|R100REDE8CZG1Z|   13544187|0955176247|     348681061| 2013-01-20|\n",
            "|R100U5WN59IKMO|   38788167|1561706124|     436984722| 2015-01-03|\n",
            "|R100WKCXPC71SI|    9246053|0528011499|     607239732| 2015-01-07|\n",
            "|R100WYUUD0OU9H|   44142581|0692445374|     272422978| 2015-01-01|\n",
            "|R1011S5OVDI8X4|   24486045|1591030250|     596523810| 2012-01-21|\n",
            "|R10137BN9ZX753|   18634997|1780974574|     448101930| 2014-01-09|\n",
            "|R101LVIUDBR3DQ|   40841659|0692381821|     555838550| 2015-01-31|\n",
            "|R101N0ZLJNPWNA|   24959137|0749956267|     127101612| 2015-01-08|\n",
            "|R101O50A8STSA3|   30564993|0689308817|     469705306| 2013-01-08|\n",
            "|R101Q44B9JBRYZ|   36215619|B00FFBCLWO|     120995424| 2014-01-09|\n",
            "|R101YXFZNRX246|    5878150|B00B1L443Q|     312789401| 2013-01-28|\n",
            "|R1023F2X88Z5PU|   35085594|0982440936|     355739740| 2014-01-14|\n",
            "|R1023QP45GESSK|   10250998|8449305470|     370140784| 2015-01-08|\n",
            "|R1025AJHA19J2J|   14058698|1591202930|     402761737| 2012-01-09|\n",
            "+--------------+-----------+----------+--------------+-----------+\n",
            "only showing top 20 rows\n",
            "\n"
          ]
        }
      ]
    },
    {
      "cell_type": "code",
      "source": [
        "products_df = df.dropDuplicates([\"product_id\"]).select(\"product_id\",\"product_title\")\n",
        "products_df.show()"
      ],
      "metadata": {
        "id": "DWYmbpfnCzcL",
        "colab": {
          "base_uri": "https://localhost:8080/"
        },
        "outputId": "5f6e5a6b-1b52-4340-f2a1-8a9750044668"
      },
      "execution_count": 15,
      "outputs": [
        {
          "output_type": "stream",
          "name": "stdout",
          "text": [
            "+----------+--------------------+\n",
            "|product_id|       product_title|\n",
            "+----------+--------------------+\n",
            "|0001064487|Celebremos Su Gloria|\n",
            "|0001203088|Hilda Boswell's O...|\n",
            "|0001380753|The Great Big Pad...|\n",
            "|0001383647|Sesame Street Pre...|\n",
            "|0001384198|The Little Engine...|\n",
            "|0001622137|Tom Swift and His...|\n",
            "|0001632132| Shadow the Sheepdog|\n",
            "|0001711237|Little Black Goes...|\n",
            "|0001711415|Tubby and the Lan...|\n",
            "|0001713256|Go, Dog. Go! (Beg...|\n",
            "|0001720279|Hooray for Diffen...|\n",
            "|0001821121|Paddington Bear (...|\n",
            "|0001839225|Spring Story (Bra...|\n",
            "|0001839233|Summer Story (Bra...|\n",
            "|0001845357|    Ballad of Favour|\n",
            "|0001850164| The Rainbow Serpent|\n",
            "|0001855085|The Book of 1000 ...|\n",
            "|0001856871|           Dear Olly|\n",
            "|0001857010|The Lion, the Wit...|\n",
            "|0001857169|A Treasury of Narnia|\n",
            "+----------+--------------------+\n",
            "only showing top 20 rows\n",
            "\n"
          ]
        }
      ]
    },
    {
      "cell_type": "code",
      "source": [
        "customers_df = df.groupBy(\"customer_id\").count().withColumnRenamed(\"count\",\"customer_count\")\n",
        "customers_df.show()"
      ],
      "metadata": {
        "id": "tnjX2qvLFOBC",
        "colab": {
          "base_uri": "https://localhost:8080/"
        },
        "outputId": "0031efe1-9c21-443a-9419-ebb0d70c847e"
      },
      "execution_count": 16,
      "outputs": [
        {
          "output_type": "stream",
          "name": "stdout",
          "text": [
            "+-----------+--------------+\n",
            "|customer_id|customer_count|\n",
            "+-----------+--------------+\n",
            "|   52942195|             2|\n",
            "|   34912862|             3|\n",
            "|   52013099|            31|\n",
            "|   12325199|             1|\n",
            "|   50785793|            59|\n",
            "|   34302706|             1|\n",
            "|   38047559|            19|\n",
            "|   20366955|             1|\n",
            "|   18989639|             7|\n",
            "|   12294767|             4|\n",
            "|   13238638|             1|\n",
            "|   18950477|            46|\n",
            "|    5334838|            26|\n",
            "|   30655165|            10|\n",
            "|   36925110|             6|\n",
            "|   38086969|            15|\n",
            "|   49657151|             2|\n",
            "|   11914419|             7|\n",
            "|   34608604|            80|\n",
            "|   42177283|             1|\n",
            "+-----------+--------------+\n",
            "only showing top 20 rows\n",
            "\n"
          ]
        }
      ]
    },
    {
      "cell_type": "code",
      "source": [
        "vine_df = df.select(\"review_id\",\"star_rating\",\"helpful_votes\",\"total_votes\",\"vine\")\n",
        "vine_df.show()"
      ],
      "metadata": {
        "id": "aI-llIKNGJ1E",
        "colab": {
          "base_uri": "https://localhost:8080/"
        },
        "outputId": "9906fa80-39ea-4263-ea13-3c844b69c2d5"
      },
      "execution_count": 17,
      "outputs": [
        {
          "output_type": "stream",
          "name": "stdout",
          "text": [
            "+--------------+-----------+-------------+-----------+----+\n",
            "|     review_id|star_rating|helpful_votes|total_votes|vine|\n",
            "+--------------+-----------+-------------+-----------+----+\n",
            "|R10014V9AVMQ73|          5|            1|          1|   N|\n",
            "|R1004FYSAYGYNZ|          4|            1|          1|   N|\n",
            "|R10086W0U9OHY1|          5|            0|          0|   N|\n",
            "|R100LDX2L70YXF|          5|            0|          0|   N|\n",
            "|R100OI6P955T8N|          5|            1|          1|   N|\n",
            "|R100QVQSCIC23H|          3|            0|          0|   N|\n",
            "|R100REDE8CZG1Z|          5|            2|          3|   N|\n",
            "|R100U5WN59IKMO|          5|            1|          1|   N|\n",
            "|R100WKCXPC71SI|          5|            0|          0|   N|\n",
            "|R100WYUUD0OU9H|          5|            0|          0|   N|\n",
            "|R1011S5OVDI8X4|          5|            3|          3|   N|\n",
            "|R10137BN9ZX753|          5|            0|          1|   N|\n",
            "|R101LVIUDBR3DQ|          5|            1|          1|   N|\n",
            "|R101N0ZLJNPWNA|          4|            0|          0|   N|\n",
            "|R101O50A8STSA3|          5|            0|          0|   N|\n",
            "|R101Q44B9JBRYZ|          5|            0|          0|   N|\n",
            "|R101YXFZNRX246|          5|            0|          2|   N|\n",
            "|R1023F2X88Z5PU|          5|            4|          5|   N|\n",
            "|R1023QP45GESSK|          4|            0|          0|   N|\n",
            "|R1025AJHA19J2J|          5|            4|          4|   N|\n",
            "+--------------+-----------+-------------+-----------+----+\n",
            "only showing top 20 rows\n",
            "\n"
          ]
        }
      ]
    },
    {
      "cell_type": "code",
      "source": [
        "# Configuration for RDS instance\n",
        "mode=\"append\"\n",
        "jdbc_url = \"jdbc:postgresql://database-1.cnudimefwqi6.us-west-1.rds.amazonaws.com:5432/my_data_class_db2\"\n",
        "config = {\"user\":\"root\",\n",
        "          \"password\": \"goceltics!\",\n",
        "          \"driver\":\"org.postgresql.Driver\"}"
      ],
      "metadata": {
        "id": "dv0Y0ho5RuxU"
      },
      "execution_count": 18,
      "outputs": []
    },
    {
      "cell_type": "code",
      "source": [
        "# Write DataFrames to RDS\n",
        "review_id_df.write.jdbc(url=jdbc_url, table='review_id_table', mode=mode, properties=config)"
      ],
      "metadata": {
        "id": "8EtKhrHwRwim"
      },
      "execution_count": 19,
      "outputs": []
    },
    {
      "cell_type": "code",
      "source": [
        "products_df.write.jdbc(url=jdbc_url, table='products', mode=mode, properties=config)\n"
      ],
      "metadata": {
        "id": "nHpDR6HqRyPZ"
      },
      "execution_count": 20,
      "outputs": []
    },
    {
      "cell_type": "code",
      "source": [
        "customers_df.write.jdbc(url=jdbc_url, table='customers', mode=mode, properties=config)"
      ],
      "metadata": {
        "id": "ZTQtjQH_Rz2R"
      },
      "execution_count": 21,
      "outputs": []
    },
    {
      "cell_type": "code",
      "source": [
        "vine_df.write.jdbc(url=jdbc_url, table='vine_table', mode=mode, properties=config)"
      ],
      "metadata": {
        "id": "ULhJZs1qR2Ra"
      },
      "execution_count": 22,
      "outputs": []
    }
  ]
}